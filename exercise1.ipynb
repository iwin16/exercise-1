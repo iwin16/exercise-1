{
 "cells": [
  {
   "cell_type": "code",
   "execution_count": 36,
   "id": "5cab7a8f",
   "metadata": {},
   "outputs": [],
   "source": [
    "import math\n",
    "import numpy as np\n",
    "import decimal as dc"
   ]
  },
  {
   "cell_type": "code",
   "execution_count": 2,
   "id": "a13631e1",
   "metadata": {},
   "outputs": [
    {
     "data": {
      "text/plain": [
       "2.0"
      ]
     },
     "execution_count": 2,
     "metadata": {},
     "output_type": "execute_result"
    }
   ],
   "source": [
    "math.sqrt(4)"
   ]
  },
  {
   "cell_type": "code",
   "execution_count": 3,
   "id": "cee1f5c1",
   "metadata": {},
   "outputs": [
    {
     "data": {
      "text/plain": [
       "1.0"
      ]
     },
     "execution_count": 3,
     "metadata": {},
     "output_type": "execute_result"
    }
   ],
   "source": [
    "math.sin(math.pi/2)"
   ]
  },
  {
   "cell_type": "code",
   "execution_count": 5,
   "id": "81390a51",
   "metadata": {},
   "outputs": [
    {
     "data": {
      "text/plain": [
       "10.000000000000002"
      ]
     },
     "execution_count": 5,
     "metadata": {},
     "output_type": "execute_result"
    }
   ],
   "source": [
    "math.exp(math.log(10))"
   ]
  },
  {
   "cell_type": "code",
   "execution_count": 6,
   "id": "e6c2f7d8",
   "metadata": {},
   "outputs": [],
   "source": [
    "math.factorial?\n"
   ]
  },
  {
   "cell_type": "markdown",
   "id": "27b29f3c",
   "metadata": {},
   "source": []
  },
  {
   "cell_type": "code",
   "execution_count": 7,
   "id": "f4109277",
   "metadata": {},
   "outputs": [],
   "source": [
    "import antigravity\n"
   ]
  },
  {
   "cell_type": "code",
   "execution_count": 8,
   "id": "b3e07134",
   "metadata": {},
   "outputs": [
    {
     "data": {
      "text/plain": [
       "60.0"
      ]
     },
     "execution_count": 8,
     "metadata": {},
     "output_type": "execute_result"
    }
   ],
   "source": [
    "1/2*(10*12)"
   ]
  },
  {
   "cell_type": "code",
   "execution_count": 9,
   "id": "f8d08263",
   "metadata": {},
   "outputs": [
    {
     "data": {
      "text/plain": [
       "94.24777960769379"
      ]
     },
     "execution_count": 9,
     "metadata": {},
     "output_type": "execute_result"
    }
   ],
   "source": [
    "math.pi*2*5*3"
   ]
  },
  {
   "cell_type": "code",
   "execution_count": 10,
   "id": "25141d16",
   "metadata": {},
   "outputs": [
    {
     "data": {
      "text/plain": [
       "5.199999999999999"
      ]
     },
     "execution_count": 10,
     "metadata": {},
     "output_type": "execute_result"
    }
   ],
   "source": [
    "9-4/5-3"
   ]
  },
  {
   "cell_type": "code",
   "execution_count": 27,
   "id": "a59855fe",
   "metadata": {},
   "outputs": [
    {
     "data": {
      "text/plain": [
       "5.385164807134504"
      ]
     },
     "execution_count": 27,
     "metadata": {},
     "output_type": "execute_result"
    }
   ],
   "source": [
    "math.sqrt((5-3)**2+(9-4)**2)"
   ]
  },
  {
   "cell_type": "code",
   "execution_count": 13,
   "id": "f8f67038",
   "metadata": {},
   "outputs": [
    {
     "data": {
      "text/plain": [
       "720"
      ]
     },
     "execution_count": 13,
     "metadata": {},
     "output_type": "execute_result"
    }
   ],
   "source": [
    "math.factorial(6\n",
    "              )"
   ]
  },
  {
   "cell_type": "code",
   "execution_count": 16,
   "id": "a1e038fe",
   "metadata": {},
   "outputs": [
    {
     "data": {
      "text/plain": [
       "16"
      ]
     },
     "execution_count": 16,
     "metadata": {},
     "output_type": "execute_result"
    }
   ],
   "source": [
    "4**2"
   ]
  },
  {
   "cell_type": "code",
   "execution_count": 33,
   "id": "b1fd494c",
   "metadata": {},
   "outputs": [
    {
     "name": "stdout",
     "output_type": "stream",
     "text": [
      "124\n"
     ]
    }
   ],
   "source": [
    "start = 1500\n",
    "end = 2010\n",
    "cout = 0\n",
    "while start <= end:\n",
    "    cout += 1\n",
    "    if (start % 100 == 0) & (start % 400 != 0):\n",
    "            cout -= 1\n",
    "    start += 4\n",
    "print(cout)\n",
    "    "
   ]
  },
  {
   "cell_type": "code",
   "execution_count": 48,
   "id": "82eb634a",
   "metadata": {},
   "outputs": [
    {
     "name": "stdout",
     "output_type": "stream",
     "text": [
      "3.141592653589792786593381864\n"
     ]
    }
   ],
   "source": [
    "\n",
    "N = 2\n",
    "x = 0\n",
    "for  k in range(N+1):\n",
    "    c = 2*math.sqrt(2)/9801\n",
    "    n = math.factorial(4*k) *(1103 + 26390 * k)\n",
    "    d = (math.factorial(k)**4) * (396 ** (4*k))\n",
    "    x += dc.Decimal(c) *dc.Decimal(n)/dc.Decimal(d)\n",
    "print(dc.Decimal(1/x))\n",
    "    \n",
    "    "
   ]
  },
  {
   "cell_type": "code",
   "execution_count": 49,
   "id": "1e52f9e7",
   "metadata": {},
   "outputs": [
    {
     "data": {
      "text/plain": [
       "3.141592653589793"
      ]
     },
     "execution_count": 49,
     "metadata": {},
     "output_type": "execute_result"
    }
   ],
   "source": [
    "math.pi"
   ]
  },
  {
   "cell_type": "code",
   "execution_count": 52,
   "id": "e6cfdbe1",
   "metadata": {},
   "outputs": [
    {
     "name": "stdout",
     "output_type": "stream",
     "text": [
      "3.626860407847019\n",
      "3.6268604078470186\n"
     ]
    }
   ],
   "source": [
    "x =2\n",
    "sh = (math.exp(x)-math.exp(-x))/2\n",
    "print(sh)\n",
    "print(math.sinh(x))"
   ]
  },
  {
   "cell_type": "code",
   "execution_count": 53,
   "id": "116462a1",
   "metadata": {},
   "outputs": [
    {
     "data": {
      "text/plain": [
       "0.9986295347545738"
      ]
     },
     "execution_count": 53,
     "metadata": {},
     "output_type": "execute_result"
    }
   ],
   "source": [
    "math.sin(math.radians(87))"
   ]
  },
  {
   "cell_type": "code",
   "execution_count": 56,
   "id": "3b4d5ce7",
   "metadata": {},
   "outputs": [
    {
     "data": {
      "text/plain": [
       "True"
      ]
     },
     "execution_count": 56,
     "metadata": {},
     "output_type": "execute_result"
    }
   ],
   "source": [
    "True or False"
   ]
  },
  {
   "cell_type": "code",
   "execution_count": 20,
   "id": "df152d0a",
   "metadata": {},
   "outputs": [
    {
     "name": "stdout",
     "output_type": "stream",
     "text": [
      "P\tQ\tP_xor_Q\n",
      "True\tTrue\tFalse\n",
      "True\tFalse\tTrue\n",
      "False\tTrue\tTrue\n",
      "False\tFalse\tFalse\n"
     ]
    }
   ],
   "source": [
    "print(\"P\\tQ\\tP_xor_Q\")\n",
    "for i in [True,False]:\n",
    "    for j in [True,False]:\n",
    "        result = (not i or not j) and ( i or  j)\n",
    "        print(f\"{i}\\t{j}\\t{result}\")"
   ]
  },
  {
   "cell_type": "code",
   "execution_count": 21,
   "id": "7be18c34",
   "metadata": {},
   "outputs": [
    {
     "name": "stdout",
     "output_type": "stream",
     "text": [
      "P\tQ\t(P AND Q) OR (P AND (NOT Q))\n",
      "True\tTrue\tTrue\n",
      "True\tFalse\tTrue\n",
      "False\tTrue\tFalse\n",
      "False\tFalse\tFalse\n"
     ]
    }
   ],
   "source": [
    "print(\"P\\tQ\\t(P AND Q) OR (P AND (NOT Q))\")\n",
    "for i in [True,False]:\n",
    "    for j in [True,False]:\n",
    "        result = (i and j) or (i and (not j))\n",
    "        print(f\"{i}\\t{j}\\t{result}\")"
   ]
  },
  {
   "cell_type": "code",
   "execution_count": 70,
   "id": "1a088415",
   "metadata": {},
   "outputs": [
    {
     "name": "stdout",
     "output_type": "stream",
     "text": [
      "P\tQ\t(P or Q)\n",
      "True\tTrue\tTrue\n",
      "True\tFalse\tTrue\n",
      "False\tTrue\tTrue\n",
      "False\tFalse\tFalse\n"
     ]
    }
   ],
   "source": [
    "print(\"P\\tQ\\t(P or Q)\")\n",
    "for i in [True,False]:\n",
    "    for j in [True,False]: \n",
    "        result = not((not i and not j) )        \n",
    "        print(f\"{i}\\t{j}\\t{result}\")"
   ]
  },
  {
   "cell_type": "code",
   "execution_count": 75,
   "id": "44a31b2a",
   "metadata": {},
   "outputs": [
    {
     "name": "stdout",
     "output_type": "stream",
     "text": [
      "P\tQ\t(P and Q)\n",
      "True\tTrue\tTrue\n",
      "True\tFalse\tFalse\n",
      "False\tTrue\tFalse\n",
      "False\tFalse\tFalse\n"
     ]
    }
   ],
   "source": [
    "print(\"P\\tQ\\t(P and Q)\")\n",
    "for i in [True,False]:\n",
    "    for j in [True,False]: \n",
    "        result = not((not i or not j) )        \n",
    "        print(f\"{i}\\t{j}\\t{result}\")"
   ]
  },
  {
   "cell_type": "code",
   "execution_count": 77,
   "id": "a43ed857",
   "metadata": {},
   "outputs": [],
   "source": [
    "import math"
   ]
  },
  {
   "cell_type": "code",
   "execution_count": 83,
   "id": "e4c87ea1",
   "metadata": {},
   "outputs": [
    {
     "name": "stdout",
     "output_type": "stream",
     "text": [
      "-120.27311408976854\n"
     ]
    }
   ],
   "source": [
    "print(math.exp(2)*math.sin(math.pi/6)+math.log(3)*math.cos(math.pi/9)-math.pow(5,3))"
   ]
  },
  {
   "cell_type": "code",
   "execution_count": null,
   "id": "2a83ad7c",
   "metadata": {},
   "outputs": [],
   "source": []
  }
 ],
 "metadata": {
  "kernelspec": {
   "display_name": "Python 3 (ipykernel)",
   "language": "python",
   "name": "python3"
  },
  "language_info": {
   "codemirror_mode": {
    "name": "ipython",
    "version": 3
   },
   "file_extension": ".py",
   "mimetype": "text/x-python",
   "name": "python",
   "nbconvert_exporter": "python",
   "pygments_lexer": "ipython3",
   "version": "3.9.12"
  }
 },
 "nbformat": 4,
 "nbformat_minor": 5
}
